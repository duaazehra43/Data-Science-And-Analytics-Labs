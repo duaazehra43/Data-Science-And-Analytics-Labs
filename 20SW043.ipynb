{
  "nbformat": 4,
  "nbformat_minor": 0,
  "metadata": {
    "colab": {
      "provenance": [],
      "authorship_tag": "ABX9TyNqCynL+YMfXVRRkjdD7kqD",
      "include_colab_link": true
    },
    "kernelspec": {
      "name": "python3",
      "display_name": "Python 3"
    },
    "language_info": {
      "name": "python"
    }
  },
  "cells": [
    {
      "cell_type": "markdown",
      "metadata": {
        "id": "view-in-github",
        "colab_type": "text"
      },
      "source": [
        "<a href=\"https://colab.research.google.com/github/duaazehra43/Data-Science-And-Analytics-Labs/blob/main/20SW043.ipynb\" target=\"_parent\"><img src=\"https://colab.research.google.com/assets/colab-badge.svg\" alt=\"Open In Colab\"/></a>"
      ]
    },
    {
      "cell_type": "code",
      "execution_count": null,
      "metadata": {
        "colab": {
          "base_uri": "https://localhost:8080/"
        },
        "id": "Y5_HSs1Zv_IU",
        "outputId": "94f9f78b-36ee-4bb0-d5b0-98a04a931739"
      },
      "outputs": [
        {
          "output_type": "stream",
          "name": "stdout",
          "text": [
            "Integer: 10\n",
            "Float: 3.14\n",
            "String: Hello, World!\n",
            "Boolean: True\n"
          ]
        }
      ],
      "source": [
        "#Basic Types\n",
        "\n",
        "# Integer\n",
        "my_integer = 10\n",
        "print(\"Integer:\", my_integer)\n",
        "\n",
        "# Float\n",
        "my_float = 3.14\n",
        "print(\"Float:\", my_float)\n",
        "\n",
        "# String\n",
        "my_string = \"Hello, World!\"\n",
        "print(\"String:\", my_string)\n",
        "\n",
        "# Boolean\n",
        "my_boolean = True\n",
        "print(\"Boolean:\", my_boolean)"
      ]
    },
    {
      "cell_type": "code",
      "source": [
        "#Container Types\n",
        "\n",
        "# List\n",
        "my_list = [1, 2, 3, 4, 5]\n",
        "print(\"List:\", my_list)\n",
        "\n",
        "# Tuple\n",
        "my_tuple = (1, 2, 3, 4, 5)\n",
        "print(\"Tuple:\", my_tuple)\n",
        "\n",
        "# Dictionary\n",
        "my_dictionary = {\"name\": \"Duaa\", \"age\": 20, \"city\": \"Jamshoro\"}\n",
        "print(\"Dictionary:\", my_dictionary)\n",
        "\n",
        "# Set\n",
        "my_set = {1, 2, 3, 4, 5}\n",
        "print(\"Set:\", my_set)\n"
      ],
      "metadata": {
        "colab": {
          "base_uri": "https://localhost:8080/"
        },
        "id": "Yl6JV5OpxiYK",
        "outputId": "9a059dda-50b4-49d3-fd96-421a003feb37"
      },
      "execution_count": null,
      "outputs": [
        {
          "output_type": "stream",
          "name": "stdout",
          "text": [
            "List: [1, 2, 3, 4, 5]\n",
            "Tuple: (1, 2, 3, 4, 5)\n",
            "Dictionary: {'name': 'Duaa', 'age': 20, 'city': 'Jamshoro'}\n",
            "Set: {1, 2, 3, 4, 5}\n"
          ]
        }
      ]
    },
    {
      "cell_type": "code",
      "source": [
        "#Identifiers\n",
        "\n",
        "#identifier names\n",
        "my_variable = 10\n",
        "my_string = \"Hello\"\n",
        "my_list = [1, 2, 3]\n",
        "\n",
        "# Printing the identifier names\n",
        "print(\"Valid identifier names:\")\n",
        "print(\"my_variable:\", my_variable)\n",
        "print(\"my_string:\", my_string)\n",
        "print(\"my_list:\", my_list)"
      ],
      "metadata": {
        "colab": {
          "base_uri": "https://localhost:8080/"
        },
        "id": "LHJFlxLuyN7q",
        "outputId": "279c3aa2-55b9-4f6a-e368-5b33b4dd9258"
      },
      "execution_count": null,
      "outputs": [
        {
          "output_type": "stream",
          "name": "stdout",
          "text": [
            "Valid identifier names:\n",
            "my_variable: 10\n",
            "my_string: Hello\n",
            "my_list: [1, 2, 3]\n"
          ]
        }
      ]
    },
    {
      "cell_type": "code",
      "source": [
        "#Variables Assignment\n",
        "\n",
        "x = 5\n",
        "y = 10\n",
        "z = x + y\n",
        "print(\"x:\", x)\n",
        "print(\"y:\", y)\n",
        "print(\"z:\", z)"
      ],
      "metadata": {
        "id": "N45jjVFhzDOc",
        "colab": {
          "base_uri": "https://localhost:8080/"
        },
        "outputId": "e99f9882-06e1-45f5-99f9-a84f776c27c3"
      },
      "execution_count": null,
      "outputs": [
        {
          "output_type": "stream",
          "name": "stdout",
          "text": [
            "x: 5\n",
            "y: 10\n",
            "z: 15\n"
          ]
        }
      ]
    },
    {
      "cell_type": "code",
      "source": [
        "#Conversions\n",
        "\n",
        "# Integer to float conversion\n",
        "my_integer = 10\n",
        "my_float = float(my_integer)\n",
        "print(\"Integer to Float:\", my_float)\n",
        "\n",
        "# Float to integer conversion\n",
        "my_float = 3.14\n",
        "my_integer = int(my_float)\n",
        "print(\"Float to Integer:\", my_integer)\n",
        "\n",
        "# Integer to string conversion\n",
        "my_integer = 5\n",
        "my_string = str(my_integer)\n",
        "print(\"Integer to String:\", my_string)\n",
        "\n",
        "# Float to string conversion\n",
        "my_float = 3.14\n",
        "my_string = str(my_float)\n",
        "print(\"Float to String:\", my_string)\n",
        "\n",
        "# String to integer conversion\n",
        "my_string = \"10\"\n",
        "my_integer = int(my_string)\n",
        "print(\"String to Integer:\", my_integer)\n",
        "\n",
        "# String to float conversion\n",
        "my_string = \"3.14\"\n",
        "my_float = float(my_string)\n",
        "print(\"String to Float:\", my_float)\n"
      ],
      "metadata": {
        "colab": {
          "base_uri": "https://localhost:8080/"
        },
        "id": "Q3HsF2Oqz0vY",
        "outputId": "6c0ed6fe-73ef-42b6-d489-d83701215804"
      },
      "execution_count": null,
      "outputs": [
        {
          "output_type": "stream",
          "name": "stdout",
          "text": [
            "Integer to Float: 10.0\n",
            "Float to Integer: 3\n",
            "Integer to String: 5\n",
            "Float to String: 3.14\n",
            "String to Integer: 10\n",
            "String to Float: 3.14\n"
          ]
        }
      ]
    },
    {
      "cell_type": "code",
      "source": [
        "#Sequence Containers Indexing\n",
        "\n",
        "# List indexing\n",
        "my_list = [1, 2, 3, 4, 5]\n",
        "print(\"List:\", my_list)\n",
        "print(\"List indexing:\")\n",
        "print(\"Element at index 0:\", my_list[0])\n",
        "print(\"Element at index 2:\", my_list[2])\n",
        "print(\"Element at index -1:\", my_list[-1])\n",
        "\n",
        "# Tuple indexing\n",
        "my_tuple = (6, 7, 8, 9, 10)\n",
        "print(\"\\nTuple:\", my_tuple)\n",
        "print(\"Tuple indexing:\")\n",
        "print(\"Element at index 0:\", my_tuple[0])\n",
        "print(\"Element at index 2:\", my_tuple[2])\n",
        "print(\"Element at index -1:\", my_tuple[-1])\n",
        "\n",
        "# String indexing\n",
        "my_string = \"Hello, World!\"\n",
        "print(\"\\nString:\", my_string)\n",
        "print(\"String indexing:\")\n",
        "print(\"Character at index 0:\", my_string[0])\n",
        "print(\"Character at index 4:\", my_string[4])\n",
        "print(\"Character at index -1:\", my_string[-1])\n"
      ],
      "metadata": {
        "colab": {
          "base_uri": "https://localhost:8080/"
        },
        "id": "d-Wqi1gz0B85",
        "outputId": "6e58c7cc-46d9-4907-d664-cba3dcf412e9"
      },
      "execution_count": null,
      "outputs": [
        {
          "output_type": "stream",
          "name": "stdout",
          "text": [
            "List: [1, 2, 3, 4, 5]\n",
            "List indexing:\n",
            "Element at index 0: 1\n",
            "Element at index 2: 3\n",
            "Element at index -1: 5\n",
            "\n",
            "Tuple: (6, 7, 8, 9, 10)\n",
            "Tuple indexing:\n",
            "Element at index 0: 6\n",
            "Element at index 2: 8\n",
            "Element at index -1: 10\n",
            "\n",
            "String: Hello, World!\n",
            "String indexing:\n",
            "Character at index 0: H\n",
            "Character at index 4: o\n",
            "Character at index -1: !\n"
          ]
        }
      ]
    },
    {
      "cell_type": "code",
      "source": [
        "#Boolean Logic\n",
        "\n",
        "# Boolean variables\n",
        "a = True\n",
        "b = False\n",
        "\n",
        "# Boolean AND\n",
        "result_and = a and b\n",
        "print(\"a AND b:\", result_and)\n",
        "\n",
        "# Boolean OR\n",
        "result_or = a or b\n",
        "print(\"a OR b:\", result_or)\n",
        "\n",
        "# Boolean NOT\n",
        "result_not_a = not a\n",
        "result_not_b = not b\n",
        "print(\"NOT a:\", result_not_a)\n",
        "print(\"NOT b:\", result_not_b)\n",
        "\n",
        "# Boolean XOR\n",
        "result_xor = a ^ b\n",
        "print(\"a XOR b:\", result_xor)\n",
        "\n",
        "# Comparison operators\n",
        "x = 5\n",
        "y = 10\n",
        "greater_than = x > y\n",
        "less_than = x < y\n",
        "equal_to = x == y\n",
        "not_equal_to = x != y\n",
        "print(\"x > y:\", greater_than)\n",
        "print(\"x < y:\", less_than)\n",
        "print(\"x == y:\", equal_to)\n",
        "print(\"x != y:\", not_equal_to)"
      ],
      "metadata": {
        "colab": {
          "base_uri": "https://localhost:8080/"
        },
        "id": "TmXP3uxp0i2f",
        "outputId": "85279de1-9a2f-4366-d525-d32f82995107"
      },
      "execution_count": null,
      "outputs": [
        {
          "output_type": "stream",
          "name": "stdout",
          "text": [
            "a AND b: False\n",
            "a OR b: True\n",
            "NOT a: False\n",
            "NOT b: True\n",
            "a XOR b: True\n",
            "x > y: False\n",
            "x < y: True\n",
            "x == y: False\n",
            "x != y: True\n"
          ]
        }
      ]
    },
    {
      "cell_type": "code",
      "source": [
        "#Statement Block OR Conditional Statement\n",
        "\n",
        "# If statement block\n",
        "x = 10\n",
        "if x > 5:\n",
        "    print(\"x is greater than 5\")\n",
        "    print(\"This is inside the if statement block\")\n",
        "print(\"This is outside the if statement block\")\n"
      ],
      "metadata": {
        "colab": {
          "base_uri": "https://localhost:8080/"
        },
        "id": "_5XaKZv706om",
        "outputId": "6adfbbad-92ac-4d31-ebfd-f54ea8dd13e8"
      },
      "execution_count": null,
      "outputs": [
        {
          "output_type": "stream",
          "name": "stdout",
          "text": [
            "x is greater than 5\n",
            "This is inside the if statement block\n",
            "This is outside the if statement block\n"
          ]
        }
      ]
    },
    {
      "cell_type": "code",
      "source": [
        "#Modules/Names Import OR Maths\n",
        "\n",
        "import math\n",
        "\n",
        "# Square root\n",
        "num = 16\n",
        "sqrt = math.sqrt(num)\n",
        "print(\"Square root of\", num, \"is\", sqrt)"
      ],
      "metadata": {
        "colab": {
          "base_uri": "https://localhost:8080/"
        },
        "id": "ihlywqCW23-8",
        "outputId": "b7a9f13a-e6fc-4fa5-9d9a-e547151908b6"
      },
      "execution_count": null,
      "outputs": [
        {
          "output_type": "stream",
          "name": "stdout",
          "text": [
            "Square root of 16 is 4.0\n"
          ]
        }
      ]
    },
    {
      "cell_type": "code",
      "source": [
        "#Exception On Errors\n",
        "\n",
        "# Exception handling example\n",
        "try:\n",
        "    x = 10\n",
        "    y = 0\n",
        "    result = x / y\n",
        "    print(\"Result:\", result)\n",
        "except ZeroDivisionError:\n",
        "    print(\"Error: Division by zero!\")\n",
        "except Exception as e:\n",
        "    print(\"An error occurred:\", str(e))"
      ],
      "metadata": {
        "colab": {
          "base_uri": "https://localhost:8080/"
        },
        "id": "IP_mjnZw3GBj",
        "outputId": "51cad79e-08cb-4e73-887f-beef879e23e4"
      },
      "execution_count": null,
      "outputs": [
        {
          "output_type": "stream",
          "name": "stdout",
          "text": [
            "Error: Division by zero!\n"
          ]
        }
      ]
    },
    {
      "cell_type": "code",
      "source": [
        "#Conditional Loop Statement\n",
        "\n",
        "# While loop statement block\n",
        "counter = 0\n",
        "print(\"\\nCounting:\")\n",
        "while counter < 5:\n",
        "    print(counter)\n",
        "    counter += 1\n",
        "print(\"End of the while loop\")"
      ],
      "metadata": {
        "colab": {
          "base_uri": "https://localhost:8080/"
        },
        "id": "lixxaiLv3g_U",
        "outputId": "d8b1296d-1c28-4d4f-ffc5-3192845a5c90"
      },
      "execution_count": null,
      "outputs": [
        {
          "output_type": "stream",
          "name": "stdout",
          "text": [
            "\n",
            "Counting:\n",
            "0\n",
            "1\n",
            "2\n",
            "3\n",
            "4\n",
            "End of the while loop\n"
          ]
        }
      ]
    },
    {
      "cell_type": "code",
      "source": [
        "#Iterative Loop Statement\n",
        "\n",
        "# For loop statement block\n",
        "numbers = [1, 2, 3, 4, 5]\n",
        "print(\"\\nNumbers:\")\n",
        "for num in numbers:\n",
        "    square = num ** 2\n",
        "    print(f\"The square of {num} is {square}\")\n",
        "print(\"End of the for loop\")"
      ],
      "metadata": {
        "colab": {
          "base_uri": "https://localhost:8080/"
        },
        "id": "uzCaEsnW3tSr",
        "outputId": "e4c8e149-ed2b-40fb-ac50-f281ee3074f7"
      },
      "execution_count": null,
      "outputs": [
        {
          "output_type": "stream",
          "name": "stdout",
          "text": [
            "\n",
            "Numbers:\n",
            "The square of 1 is 1\n",
            "The square of 2 is 4\n",
            "The square of 3 is 9\n",
            "The square of 4 is 16\n",
            "The square of 5 is 25\n",
            "End of the for loop\n"
          ]
        }
      ]
    }
  ]
}