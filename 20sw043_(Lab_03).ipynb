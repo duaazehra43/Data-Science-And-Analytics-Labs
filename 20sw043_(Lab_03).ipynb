{
  "cells": [
    {
      "cell_type": "markdown",
      "metadata": {
        "id": "view-in-github",
        "colab_type": "text"
      },
      "source": [
        "<a href=\"https://colab.research.google.com/github/duaazehra43/Data-Science-And-Analytics-Labs/blob/main/20sw043_(Lab_03).ipynb\" target=\"_parent\"><img src=\"https://colab.research.google.com/assets/colab-badge.svg\" alt=\"Open In Colab\"/></a>"
      ]
    },
    {
      "cell_type": "code",
      "execution_count": null,
      "metadata": {
        "colab": {
          "base_uri": "https://localhost:8080/"
        },
        "id": "3UPfIcMwrsf9",
        "outputId": "bcb46bdc-c9b9-4d0e-d84c-80c284df05ca"
      },
      "outputs": [
        {
          "name": "stdout",
          "output_type": "stream",
          "text": [
            "expected result: 10, actual result: 10.0\n",
            "expected result: 7123.6902801, actual result: 7123.690280065897\n"
          ]
        }
      ],
      "source": [
        "#Task 1\n",
        "\n",
        "def population_density(population, land_area):\n",
        "    return population / land_area\n",
        "\n",
        "test1 = population_density(10, 1)\n",
        "expected_result1 = 10\n",
        "print(\"expected result: {}, actual result: {}\".format(expected_result1, test1))\n",
        "\n",
        "test2 = population_density(864816, 121.4)\n",
        "expected_result2 = 7123.6902801\n",
        "print(\"expected result: {}, actual result: {}\".format(expected_result2, test2))"
      ]
    },
    {
      "cell_type": "code",
      "execution_count": null,
      "metadata": {
        "colab": {
          "base_uri": "https://localhost:8080/"
        },
        "id": "45zrPj1QseTK",
        "outputId": "9fdd4f69-8648-457e-8d4b-69a26de09cd6"
      },
      "outputs": [
        {
          "name": "stdout",
          "output_type": "stream",
          "text": [
            "1 week(s) and 3 day(s).\n"
          ]
        }
      ],
      "source": [
        "#Task 2\n",
        "\n",
        "def readable_timedelta(days):\n",
        "    weeks = days // 7\n",
        "    remaining_days = days % 7\n",
        "    return \"{} week(s) and {} day(s).\".format(weeks, remaining_days)\n",
        "\n",
        "print(readable_timedelta(10))"
      ]
    },
    {
      "cell_type": "code",
      "execution_count": null,
      "metadata": {
        "colab": {
          "base_uri": "https://localhost:8080/"
        },
        "id": "Aj3HZyuTspYg",
        "outputId": "b5e3d211-8534-411e-8be1-8a3f8634e491"
      },
      "outputs": [
        {
          "name": "stdout",
          "output_type": "stream",
          "text": [
            "[57.0, 58.2, 50.6, 27.2]\n"
          ]
        }
      ],
      "source": [
        "#Task 3\n",
        "\n",
        "numbers = [\n",
        "    [34, 63, 88, 71, 29],\n",
        "    [90, 78, 51, 27, 45],\n",
        "    [63, 37, 85, 46, 22],\n",
        "    [51, 22, 34, 11, 18]\n",
        "]\n",
        "\n",
        "averages = list(map(lambda num_list: sum(num_list) / len(num_list), numbers))\n",
        "print(averages)"
      ]
    },
    {
      "cell_type": "code",
      "execution_count": null,
      "metadata": {
        "colab": {
          "base_uri": "https://localhost:8080/"
        },
        "id": "_qt2VW3etBPt",
        "outputId": "31c7ec99-69db-4367-b28f-5489e3922d2b"
      },
      "outputs": [
        {
          "name": "stdout",
          "output_type": "stream",
          "text": [
            "['Chicago', 'Denver', 'Boston']\n"
          ]
        }
      ],
      "source": [
        "#Task 4\n",
        "\n",
        "cities = [\"New York City\", \"Los Angeles\", \"Chicago\", \"Mountain View\", \"Denver\", \"Boston\"]\n",
        "\n",
        "short_cities = list(filter(lambda name: len(name) < 10, cities))\n",
        "print(short_cities)"
      ]
    },
    {
      "cell_type": "code",
      "execution_count": null,
      "metadata": {
        "colab": {
          "base_uri": "https://localhost:8080/"
        },
        "id": "a0ZCTMaptz6b",
        "outputId": "3ba88fbf-5deb-4e1c-9061-16198300c1b2"
      },
      "outputs": [
        {
          "name": "stdout",
          "output_type": "stream",
          "text": [
            "Enter a list of student names separated by commas: DUA , FAJAR\n",
            "Enter a list of the number of missing assignments for each student separated by commas: 2, 3\n",
            "Enter a list of grades for each student separated by commas: 2, 3\n",
            "Hi DUA ,\n",
            "\n",
            "This is a reminder that you have 2 assignments left to submit before you can graduate. Your current grade is 2.0 and can increase to 6.0 if you submit all assignments before the due date.\n",
            "\n",
            "\n",
            "Hi  FAJAR,\n",
            "\n",
            "This is a reminder that you have 3 assignments left to submit before you can graduate. Your current grade is 3.0 and can increase to 9.0 if you submit all assignments before the due date.\n",
            "\n",
            "\n"
          ]
        }
      ],
      "source": [
        "#Task 5\n",
        "\n",
        "names_input = input(\"Enter a list of student names separated by commas: \")\n",
        "names = names_input.split(',')\n",
        "\n",
        "assignments_input = input(\"Enter a list of the number of missing assignments for each student separated by commas: \")\n",
        "assignments = [int(x) for x in assignments_input.split(',')]\n",
        "\n",
        "grades_input = input(\"Enter a list of grades for each student separated by commas: \")\n",
        "grades = [float(x) for x in grades_input.split(',')]\n",
        "\n",
        "message = \"Hi {},\\n\\nThis is a reminder that you have {} assignments left to submit before you can graduate. Your current grade is {} and can increase to {} if you submit all assignments before the due date.\\n\\n\"\n",
        "\n",
        "for name, assignment_count, grade in zip(names, assignments, grades):\n",
        "    potential_grade = grade + (2 * assignment_count)\n",
        "    print(message.format(name, assignment_count, grade, potential_grade))"
      ]
    },
    {
      "cell_type": "code",
      "source": [],
      "metadata": {
        "id": "du1KQe-0BYpl"
      },
      "execution_count": null,
      "outputs": []
    },
    {
      "cell_type": "markdown",
      "source": [],
      "metadata": {
        "id": "Inu8cBsDBY8J"
      }
    },
    {
      "cell_type": "code",
      "source": [
        "#Task 6\n",
        "\n",
        "f = open('task6.txt', 'w')\n",
        "f.write(\"We're the knights of the round tableWe dance whenever we're able\")\n",
        "f.close()\n",
        "\n",
        "with open(\"task6.txt\") as song:\n",
        "  print(song.read(2))\n",
        "  print(song.read(8))\n",
        "  print(song.read())\n",
        "\n",
        "\n",
        "camelot_lines = []\n",
        "with open(\"Biyo.txt\") as f:\n",
        "    for line in f:\n",
        "      camelot_lines.append(line.strip())\n",
        "print(camelot_lines)"
      ],
      "metadata": {
        "id": "Qj23Y9U3AaeW"
      },
      "execution_count": null,
      "outputs": []
    },
    {
      "cell_type": "code",
      "source": [
        "#Task 7\n",
        "def create_cast_list(filename):\n",
        "    cast_list = []\n",
        "    with open(filename, 'r') as file:\n",
        "        for line in file:\n",
        "            actor_name, _ = line.strip().split(',', 1)\n",
        "            cast_list.append(actor_name)\n",
        "    return cast_list\n",
        "\n",
        "cast_list = create_cast_list('flying_circus_cast.txt')\n",
        "for actor in cast_list:\n",
        "    print(actor)"
      ],
      "metadata": {
        "id": "f-FLFz4nAkLe"
      },
      "execution_count": null,
      "outputs": []
    },
    {
      "cell_type": "code",
      "source": [],
      "metadata": {
        "id": "iQmSQD9tBkOu"
      },
      "execution_count": null,
      "outputs": []
    },
    {
      "cell_type": "markdown",
      "source": [],
      "metadata": {
        "id": "Puch46n9Bk90"
      }
    }
  ],
  "metadata": {
    "colab": {
      "provenance": [],
      "authorship_tag": "ABX9TyOlfGdDw4EIqvareLKwmxTk",
      "include_colab_link": true
    },
    "kernelspec": {
      "display_name": "Python 3",
      "name": "python3"
    },
    "language_info": {
      "name": "python"
    }
  },
  "nbformat": 4,
  "nbformat_minor": 0
}