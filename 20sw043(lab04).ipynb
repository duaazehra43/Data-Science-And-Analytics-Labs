{
  "nbformat": 4,
  "nbformat_minor": 0,
  "metadata": {
    "colab": {
      "provenance": [],
      "authorship_tag": "ABX9TyMllnuHCZv3U5a7J3Bq6yxv",
      "include_colab_link": true
    },
    "kernelspec": {
      "name": "python3",
      "display_name": "Python 3"
    },
    "language_info": {
      "name": "python"
    }
  },
  "cells": [
    {
      "cell_type": "markdown",
      "metadata": {
        "id": "view-in-github",
        "colab_type": "text"
      },
      "source": [
        "<a href=\"https://colab.research.google.com/github/duaazehra43/Data-Science-And-Analytics-Labs/blob/main/20sw043(lab04).ipynb\" target=\"_parent\"><img src=\"https://colab.research.google.com/assets/colab-badge.svg\" alt=\"Open In Colab\"/></a>"
      ]
    },
    {
      "cell_type": "code",
      "execution_count": 4,
      "metadata": {
        "colab": {
          "base_uri": "https://localhost:8080/"
        },
        "id": "-aVJUOHbKxF8",
        "outputId": "dfd321d4-7aaf-499a-e628-b0618ec97488"
      },
      "outputs": [
        {
          "output_type": "stream",
          "name": "stdout",
          "text": [
            "[[ 2  4  6  8]\n",
            " [10 12 14 16]\n",
            " [18 20 22 24]\n",
            " [26 28 30 32]]\n"
          ]
        }
      ],
      "source": [
        "#Task1\n",
        "\n",
        "import numpy as np\n",
        "X = np.arange(2, 34, 2).reshape(4, 4)\n",
        "print(X)\n"
      ]
    },
    {
      "cell_type": "code",
      "source": [
        "#Task2\n",
        "\n",
        "import numpy as np\n",
        "\n",
        "X = np.arange(1, 26).reshape(5, 5)\n",
        "Y = X[X % 2 != 0]\n",
        "\n",
        "print(X)\n",
        "print(Y)\n"
      ],
      "metadata": {
        "colab": {
          "base_uri": "https://localhost:8080/"
        },
        "id": "EUJLNQa5MqdE",
        "outputId": "d0015d45-78c1-47c0-cb65-df219780bf69"
      },
      "execution_count": 6,
      "outputs": [
        {
          "output_type": "stream",
          "name": "stdout",
          "text": [
            "[[ 1  2  3  4  5]\n",
            " [ 6  7  8  9 10]\n",
            " [11 12 13 14 15]\n",
            " [16 17 18 19 20]\n",
            " [21 22 23 24 25]]\n",
            "[ 1  3  5  7  9 11 13 15 17 19 21 23 25]\n"
          ]
        }
      ]
    },
    {
      "cell_type": "code",
      "source": [
        "#Task3\n",
        "\n",
        "import numpy as np\n",
        "X = np.arange(1, 5).reshape(4, 1) * np.ones((1, 4))\n",
        "\n",
        "print(X)\n"
      ],
      "metadata": {
        "colab": {
          "base_uri": "https://localhost:8080/"
        },
        "id": "0skmHjKrM7zQ",
        "outputId": "52a68004-5717-4b4d-c9a2-b015251a00d3"
      },
      "execution_count": 8,
      "outputs": [
        {
          "output_type": "stream",
          "name": "stdout",
          "text": [
            "[[1. 1. 1. 1.]\n",
            " [2. 2. 2. 2.]\n",
            " [3. 3. 3. 3.]\n",
            " [4. 4. 4. 4.]]\n"
          ]
        }
      ]
    },
    {
      "cell_type": "code",
      "source": [
        "#Task4\n",
        "\n",
        "from google.colab import drive\n",
        "drive.mount('/NumPy.ipnyb')\n",
        "\n",
        "import numpy as np\n",
        "\n",
        "# Create a 1000x20 ndarray with random integers in the range [0, 5001)\n",
        "X = np.random.randint(0, 5001, size=(1000, 20))\n",
        "# Print the shape of X\n",
        "print(X.shape)\n",
        "\n",
        "# Calculate the average of the values in each column of X\n",
        "ave_cols = np.mean(X, axis=0)\n",
        "\n",
        "# Calculate the standard deviation of the values in each column of X\n",
        "std_cols = np.std(X, axis=0)\n",
        "\n",
        "\n",
        "print(\"Shape of ave_cols:\", ave_cols.shape)\n",
        "print(\"Shape of std_cols:\", std_cols.shape)\n",
        "\n",
        "# Mean normalize X\n",
        "X_norm = (X - ave_cols) / std_cols\n",
        "\n",
        "print(\"Mean normalized X:\")\n",
        "print(X_norm)\n",
        "\n",
        "# Print the average of all the values of X_norm\n",
        "ave_all_values = np.mean(X_norm)\n",
        "print(\"Average of all values in X_norm:\", ave_all_values)\n",
        "\n",
        "# Print the average of the minimum value in each column of X_norm\n",
        "ave_min_values = np.mean(np.min(X_norm, axis=0))\n",
        "print(\"Average of minimum values in each column of X_norm:\", ave_min_values)\n",
        "\n",
        "# Print the average of the maximum value in each column of X_norm\n",
        "ave_max_values = np.mean(np.max(X_norm, axis=0))\n",
        "print(\"Average of maximum values in each column of X_norm:\", ave_max_values)\n",
        "\n",
        "# We create a random permutation of integers 0 to 4\n",
        "np.random.permutation(5)\n",
        "\n",
        "# Create a random permutation of row indices of X_norm\n",
        "row_indices = np.random.permutation(X_norm.shape[0])\n",
        "\n",
        "print(\"Random permutation of row indices:\", row_indices)\n",
        "\n",
        "\n",
        "# Define the ratios for training, cross-validation, and test sets\n",
        "train_ratio = 0.6\n",
        "cross_val_ratio = 0.2\n",
        "test_ratio = 0.2\n",
        "\n",
        "# Calculate the sizes of each set based on the ratios\n",
        "num_rows = X_norm.shape[0]\n",
        "num_train = int(train_ratio * num_rows)\n",
        "num_cross_val = int(cross_val_ratio * num_rows)\n",
        "num_test = int(test_ratio * num_rows)\n",
        "\n",
        "# Use row_indices to split the data into sets\n",
        "X_train = X_norm[row_indices[:num_train]]\n",
        "X_crossVal = X_norm[row_indices[num_train:num_train + num_cross_val]]\n",
        "X_test = X_norm[row_indices[num_train + num_cross_val:]]\n",
        "\n",
        "print(\"X_train shape:\", X_train.shape)\n",
        "print(\"X_crossVal shape:\", X_crossVal.shape)\n",
        "print(\"X_test shape:\", X_test.shape)\n"
      ],
      "metadata": {
        "colab": {
          "base_uri": "https://localhost:8080/"
        },
        "id": "GZVVKUpyNB9v",
        "outputId": "f506033a-4846-4834-b3ed-631d7d9d1984"
      },
      "execution_count": 18,
      "outputs": [
        {
          "output_type": "stream",
          "name": "stdout",
          "text": [
            "Drive already mounted at /NumPy.ipnyb; to attempt to forcibly remount, call drive.mount(\"/NumPy.ipnyb\", force_remount=True).\n",
            "(1000, 20)\n",
            "Shape of ave_cols: (20,)\n",
            "Shape of std_cols: (20,)\n",
            "Mean normalized X:\n",
            "[[ 0.60402561 -1.32862158 -0.91158341 ... -1.07136251 -1.15888095\n",
            "   0.71026008]\n",
            " [-1.52090324  1.20837184 -1.27251097 ... -0.58379872  0.22340467\n",
            "  -0.34682961]\n",
            " [-0.24108498 -0.79356682  1.08761156 ... -0.11458031  0.45378561\n",
            "  -0.62007211]\n",
            " ...\n",
            " [ 0.63805225 -1.45508907  0.93567824 ... -0.28745025 -0.77675209\n",
            "   1.24777501]\n",
            " [ 0.89776577 -1.12363307 -0.34097411 ...  0.07381264  0.56000915\n",
            "  -1.33284864]\n",
            " [ 0.97970747 -0.33911771 -0.38841031 ... -0.92671624 -0.81537883\n",
            "   0.89725179]]\n",
            "Average of all values in X_norm: -2.7533531010703882e-17\n",
            "Average of minimum values in each column of X_norm: -1.7327341939977188\n",
            "Average of maximum values in each column of X_norm: 1.724715921630136\n",
            "Random permutation of row indices: [659 824 872 904 249  75 880 819 936 296  45 642 382 291 200 857  12 109\n",
            " 103 545 494 848 440 613  88   8 364 168  31 739 643 258 357 467 990 686\n",
            " 501 834 159 330 592 480 713 766 757 347 543 764 307 413  56 530 845 352\n",
            " 391 189 270 170 394 931 727 646 223 889  67 823 179  54 370 419 457 773\n",
            " 699 813 767 660 940  47 798 911 780 284 967 202 385 777 280 736 987 126\n",
            " 919 272 369 392 147 831 681 165 408 943 406 113 112 910 429 888 135 697\n",
            "   1 183 216 977 562 689 487 802 876 709 363 760 283 445 157 351 774 665\n",
            " 559 790 884 275 350 211 721 678 484 464  49 591 570 975 181 454 396 915\n",
            " 799   5 717  18 521 161 143 968 638  44 652 630 916 460 732 463 946  53\n",
            " 131 738 960 746  25 526 656 340 983 290 935 190 156 516 548 102  76 285\n",
            " 240 226 187 118 657 750 254 807 267 215 825 485 565 883 205  13 803 358\n",
            " 551 101 854 605 442 153 826  90 982 148 927 667  46 874 737 830 871 192\n",
            " 901 728 116 212 210 482 473 806 243 587 415 844 751 633 334  89 367 468\n",
            "  51 578 196 327 497 222 899 912 422 500 374  64 906 870 207 472 886 535\n",
            " 304 649  27 541 144 169  21 761 963 641 237 130 647 636 443 430 771 252\n",
            " 278 947 474   4 224 631 354 601 765 335 293  70 264 194 453 274 538 956\n",
            "  91 333 566 893  10 580 558 195 470 922  39 651 517 553 706  93 853 166\n",
            " 564 465 287 744 882  72 607 791  16 645 483 140 228 316 881 958 851 427\n",
            "  29 266  86 666 230 218 503  20 859 255 909 471 478 594 776 620 624 809\n",
            " 136  34 533 265 863 974 125 469 509 554 121 302 704 525 981 108 971 597\n",
            " 397 492  50 749 241 129 449 425 256 964 730 748 324 299 520 155 519 781\n",
            " 175 177 593 549 405 119 783 279 362 598  71 626 476 288 957 495 349 754\n",
            " 571 755 133 655 214 856 582 138 238  81 534 575 839 542 431 770 611 759\n",
            " 574 867 837 887  83 508 337 842 648 637 885 110 387 930 444 100 604 664\n",
            " 999 395 743 725 921  65 843 762 456 286 297 895 401  59 992 700  52 731\n",
            "  61 173 619 160 193 816 891 260 890 705 326  85 263 292 698  36 552 219\n",
            " 708 490 710 518 448 718 511 654 115 208 365  28 892 556 107 694 584  41\n",
            "  95 933 247  73 375 332 388 753 300 524 675 298 769 428  92 653  55 477\n",
            " 308 820 720 938 346 939 865 439 496 376 985  94 178  82 527 303 585 301\n",
            " 273 855 386 808 627 111 437 368 433 869 276 269 978 670 306  80 965 726\n",
            " 779 345 797 227 878 114 840  78 628 421  15 775 590 747 424 361 688 150\n",
            " 505 353 172 606 206 416 523 634 203 618 668 268 810 676   9 603 141 925\n",
            " 355 632 595 398 972 504 435 702 329 724 236 733 197  32 259 567 257 696\n",
            " 499 515 942 742 393 434 596 451 380 248 682 336 313 417 174 695  58 233\n",
            "  60  68 801 677 384 120 381 184 782 475 617 339 989 693 581 805 800 875\n",
            "  30 616 858 491 712 250 317 719 479 117 522 683 359 262 489 455 822 379\n",
            " 847 996 106 609 488  79 640 836 235 796 576  66 446   7 821 929 146 400\n",
            " 122 917 204 988 309 756 220 167 572 225 832 625 661 573 383 932 588 934\n",
            " 941 310 829 149 458 945 546 311 763 185 995 817 277 955 289  11 251 137\n",
            "  33 715 373 684 716  24 459 785 924 139 976 486 973 186 959 529 894 242\n",
            " 198 414 966 221 768 142 814 450 786 123 282  99 418 614 828 787 513 163\n",
            " 151 341 918 244 685 679 438 980 322 180 864 635 328 231 124 838 360 873\n",
            " 577 897 536 644 561 680 969 229 862 314 563 687 740 673  48 105 811 217\n",
            "  84 784 315 835 312 650 928 356 950 182 984  19 436 902   3 132 294  62\n",
            " 213 920  17 734 481 621 338 583 926  40 827 544 953 896 432 514 692  69\n",
            " 402 378 792 209 318 532 815 560  22 201 348 772 568 674 579  63 849 949\n",
            " 176  38  23 550 320 898 506 905 691 466 818 462 441 399 944 954 537 669\n",
            " 507 540  26 690 199 861 804 342 998 907 778 852 325  96 253 409 188 145\n",
            "  74 741 850 245 970 707 961  35 191 662 993 512 493 134 372 410 860 937\n",
            " 323 261 104   0 962 390 729 589 877 711  77 914 239 510 539 612 833 331\n",
            " 658 321 991 343 879 923 127 812 788 447 452  42 599   6 986 234 623 610\n",
            " 319 420 615 671 663 793 411 672 752 846 404 162 866 900 723 745 789 868\n",
            " 948 602 735  57 344 152 528 758 608 232 547   2 795 622 531 171 426 555\n",
            " 841 639  97 994  98 952 502 158  37 498 305 246 403  14 461  43 629 154\n",
            " 371 997 412 951 586 377  87 722 703 557 903 913 423 128 366 979 600 164\n",
            " 714 389 701 794 281 295 271 407 908 569]\n",
            "X_train shape: (600, 20)\n",
            "X_crossVal shape: (200, 20)\n",
            "X_test shape: (200, 20)\n"
          ]
        }
      ]
    }
  ]
}